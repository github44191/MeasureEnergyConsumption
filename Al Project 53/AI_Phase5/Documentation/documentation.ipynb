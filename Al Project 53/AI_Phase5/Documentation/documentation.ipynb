{
 "cells": [
  {
   "cell_type": "markdown",
   "id": "8207fbd3",
   "metadata": {},
   "source": [
    "# Problem Definition :\n",
    "\n",
    "The problem is to measure energy consumption in a residential or commercial setting to improve energy efficiency, reduce costs, and make informed decisions about energy usage. This involves collecting energy consumption data, preprocessing and cleaning the data, extracting relevant features, developing a predictive model for future consumption, visualizing the data and model outputs, and automating the entire process for real-time monitoring and decision-making.\n"
   ]
  },
  {
   "cell_type": "markdown",
   "id": "629cd1c9",
   "metadata": {},
   "source": [
    "# Design Thinking :\n",
    "\n",
    "#\tData Source:\n",
    "•\tIdentify the data sources: Energy consumption data can come from various sources such as smart meters, IoT sensors, utility bills, or historical records.\n",
    "•\tCollect and store data: Set up data collection systems to gather real-time or historical energy consumption data.\n",
    "•\tEnsure data quality: Check for missing values, outliers, and inconsistencies in the data.\n"
   ]
  },
  {
   "cell_type": "markdown",
   "id": "1d27a49a",
   "metadata": {},
   "source": [
    "\n",
    "\n",
    "#\tData Preprocessing:\n",
    "•\tData cleaning: Handle missing values, outliers, and duplicate entries by imputing, removing, or transforming data as necessary.\n",
    "•\tData normalization: Normalize the data to ensure that all features have the same scale.\n",
    "•\tTime series decomposition: If working with time series data, decompose it into trend, seasonality, and residual components.\n",
    "•\tData aggregation: Aggregate data if necessary (e.g., hourly to daily) to reduce noise and improve model performance.\n"
   ]
  },
  {
   "cell_type": "markdown",
   "id": "d45faed0",
   "metadata": {},
   "source": [
    " \n",
    "#\tFeature Extraction:\n",
    "•\tDefine relevant features: Identify features that can impact energy consumption, such as weather data, occupancy patterns, building characteristics, and historical usage.\n",
    "•\tFeature engineering: Create new features or transform existing ones to enhance the predictive power of the model.\n"
   ]
  },
  {
   "cell_type": "markdown",
   "id": "3e6bf283",
   "metadata": {},
   "source": [
    "\n",
    "\n",
    "#\tModel Development:\n",
    "•\tChoose an appropriate modeling technique: Select a machine learning or statistical model suitable for energy consumption prediction, such as linear regression, decision trees, neural networks, or time series forecasting methods.\n",
    "•\tSplit the dataset: Divide the data into training, validation, and test sets for model evaluation.\n",
    "•\tTrain the model: Use the training data to train the chosen model, tune hyperparameters, and optimize performance.\n",
    "•\tEvaluate the model: Assess the model's performance using appropriate evaluation metrics (e.g., Mean Absolute Error, Root Mean Squared Error, R-squared).\n"
   ]
  },
  {
   "cell_type": "markdown",
   "id": "b69f4f46",
   "metadata": {},
   "source": [
    "\n",
    "\n",
    "# Visualization:\n",
    "•\tData exploration: Visualize the raw data to understand patterns and trends in energy consumption.\n",
    "•\tModel performance: Create visualizations to showcase how well the model predicts energy consumption compared to actual values.\n",
    "•\tReal-time monitoring: Develop interactive dashboards or visualizations to monitor real-time energy consumption and alerts.\n"
   ]
  },
  {
   "cell_type": "markdown",
   "id": "34e76d97",
   "metadata": {},
   "source": [
    "# Source code with explanation"
   ]
  },
  {
   "cell_type": "markdown",
   "id": "ae03a4ab",
   "metadata": {},
   "source": [
    "# Import Necessary Libraries:\n",
    "Start by importing the necessary Python libraries. You'll need libraries like Pandas for data manipulation, Matplotlib for visualization, and any specific libraries for working with energy consumption data.\n"
   ]
  },
  {
   "cell_type": "code",
   "execution_count": null,
   "id": "b497d7d9",
   "metadata": {},
   "outputs": [],
   "source": [
    "import pandas as pd\n",
    "import numpy as np\n",
    "import matplotlib.pyplot as plt\n",
    "import seaborn as sns\n",
    "import warnings\n",
    "\n",
    "warnings.filterwarnings(\"ignore\", category=UserWarning)\n",
    "\n",
    "from sklearn.model_selection import train_test_split\n",
    "from sklearn.preprocessing import StandardScaler\n",
    "from sklearn.svm import SVR\n",
    "from sklearn.metrics import mean_squared_error, r2_score\n",
    "\n",
    "RED = \"\\033[91m\"\n",
    "GREEN = \"\\033[92m\"\n",
    "YELLOW = \"\\033[93m\"\n",
    "BLUE = \"\\033[94m\"\n",
    "RESET = \"\\033[0m\"\n"
   ]
  },
  {
   "cell_type": "markdown",
   "id": "dc3531df",
   "metadata": {},
   "source": [
    "#\tLoad the Dataset:\n",
    "\n",
    "Start by importing the necessary Python libraries. You'll need libraries like Pandas for data manipulation, Matplotlib for visualization, and any specific libraries for working with energy consumption data.\n",
    "\n"
   ]
  },
  {
   "cell_type": "code",
   "execution_count": null,
   "id": "1d4c8fde",
   "metadata": {},
   "outputs": [],
   "source": [
    "df = pd.read_csv(\"PJMW_hourly.csv\")"
   ]
  },
  {
   "cell_type": "markdown",
   "id": "3b5f4495",
   "metadata": {},
   "source": [
    "# Data Preprocessing:\n",
    "Data preprocessing is essential to clean and prepare the dataset for analysis. Depending on the dataset, you may need to handle missing values, remove duplicates, and format columns.This include:\n",
    "-\tHandling missing data.\n",
    "\n",
    "-\tConverting data types.\n",
    "\n",
    "-\tRemoving outliers.\n",
    "\n",
    "-\tNormalizing or scaling data.\n"
   ]
  },
  {
   "cell_type": "code",
   "execution_count": null,
   "id": "02380dec",
   "metadata": {},
   "outputs": [],
   "source": [
    "# DATA PREPROCESSING\n",
    "# --- Convert the date column to a datetime object\n",
    "df[\"Datetime\"] = pd.to_datetime(df[\"Datetime\"])\n",
    "\n",
    "# DATA CLEANING\n",
    "print(BLUE + \"\\nDATA CLEANING\" + RESET)\n",
    "# --- Check for missing values\n",
    "missing_values = df.isnull().sum()\n",
    "print(GREEN + \"Missing Values : \" + RESET)\n",
    "print(missing_values)\n",
    "# --- Handle missing values\n",
    "df.dropna(inplace=True)\n",
    "# --- Check for duplicate values\n",
    "duplicate_values = df.duplicated().sum()\n",
    "print(GREEN + \"Duplicate Values : \" + RESET)\n",
    "print(duplicate_values)\n",
    "# --- Drop duplicate values\n",
    "df.drop_duplicates(inplace=True)\n"
   ]
  },
  {
   "cell_type": "markdown",
   "id": "76aa3d67",
   "metadata": {},
   "source": [
    "# Data Analysis"
   ]
  },
  {
   "cell_type": "code",
   "execution_count": null,
   "id": "ca6491c6",
   "metadata": {},
   "outputs": [],
   "source": [
    "# DATA ANALYSIS\n",
    "print(BLUE + \"\\nDATA ANALYSIS\" + RESET)\n",
    "# --- Summary Statistics\n",
    "summary_stats = df.describe()\n",
    "print(GREEN + \"Summary Statistics : \" + RESET)\n",
    "print(summary_stats)\n"
   ]
  },
  {
   "cell_type": "markdown",
   "id": "bfd4e3b7",
   "metadata": {},
   "source": [
    "# Model Development:\n",
    "Choose an appropriate modeling technique: Select a machine learning or statistical model suitable for energy consumption prediction, such as linear regression, decision trees, neural networks, or time series forecasting methods.\n"
   ]
  },
  {
   "cell_type": "markdown",
   "id": "0172991b",
   "metadata": {},
   "source": [
    "Split the dataset: Divide the data into training, validation, and test sets for model evaluation.\n"
   ]
  },
  {
   "cell_type": "markdown",
   "id": "25e87605",
   "metadata": {},
   "source": [
    "Train the model: Use the training data to train the chosen model, tune hyperparameters, and optimize performance.\n"
   ]
  },
  {
   "cell_type": "markdown",
   "id": "b9b792b0",
   "metadata": {},
   "source": [
    "Evaluate the model: Assess the model's performance using appropriate evaluation metrics (e.g., Mean Absolute Error, Root Mean Squared Error, R-squared).\n",
    "\n"
   ]
  },
  {
   "cell_type": "code",
   "execution_count": null,
   "id": "4b3173d9",
   "metadata": {},
   "outputs": [],
   "source": [
    "# SUPPORT VECTOR MODELLLING\n",
    "print(BLUE + \"\\nMODELLING\" + RESET)\n",
    "# Reduce the dataset size for faster training\n",
    "df = df.sample(frac=0.2, random_state=42)\n",
    "# Split the data into features (Datetime) and target (AEP_MW)\n",
    "X = df[[\"Datetime\"]]\n",
    "y = df[\"PJMW_MW\"]\n",
    "# Split the data into training and testing sets\n",
    "X_train, X_test, y_train, y_test = train_test_split(\n",
    "    X, y, test_size=0.2, random_state=42\n",
    ")"
   ]
  },
  {
   "cell_type": "markdown",
   "id": "a8f49ab4",
   "metadata": {},
   "source": [
    "# Preprocess the features (Date and Time)"
   ]
  },
  {
   "cell_type": "code",
   "execution_count": null,
   "id": "128dde3b",
   "metadata": {},
   "outputs": [],
   "source": [
    "# Preprocess the features (Datetime) to extract the day of the year\n",
    "X_train[\"DayOfYear\"] = X_train[\"Datetime\"].dt.dayofyear\n",
    "X_test[\"DayOfYear\"] = X_test[\"Datetime\"].dt.dayofyear"
   ]
  },
  {
   "cell_type": "markdown",
   "id": "7b72660e",
   "metadata": {},
   "source": []
  },
  {
   "cell_type": "code",
   "execution_count": null,
   "id": "1fbe0ac2",
   "metadata": {},
   "outputs": [],
   "source": [
    "# Convert X_train and X_test to NumPy arrays\n",
    "X_train = X_train[\"DayOfYear\"].values.reshape(-1, 1)\n",
    "X_test = X_test[\"DayOfYear\"].values.reshape(-1, 1)\n",
    "# Standardize the data\n",
    "scaler = StandardScaler()\n",
    "X_train_scaled = scaler.fit_transform(X_train)\n",
    "X_test_scaled = scaler.transform(X_test)\n",
    "# Create an SVR (Support Vector Regression) model with a linear kernel\n",
    "svr = SVR(kernel=\"linear\", C=1.0)"
   ]
  },
  {
   "cell_type": "markdown",
   "id": "4dcaa640",
   "metadata": {},
   "source": [
    "# Train the SVR model"
   ]
  },
  {
   "cell_type": "code",
   "execution_count": null,
   "id": "4b8b2168",
   "metadata": {},
   "outputs": [],
   "source": [
    "svr.fit(X_train_scaled, y_train)\n",
    "# Predict on the test set\n",
    "y_pred = svr.predict(X_test_scaled)"
   ]
  },
  {
   "cell_type": "markdown",
   "id": "0d22918c",
   "metadata": {},
   "source": [
    "# Evaluate the model"
   ]
  },
  {
   "cell_type": "code",
   "execution_count": null,
   "id": "12c75cff",
   "metadata": {},
   "outputs": [],
   "source": [
    "mse = mean_squared_error(y_test, y_pred)\n",
    "r2 = r2_score(y_test, y_pred)\n",
    "print(f\"Mean Squared Error: {mse}\")\n",
    "print(f\"R-squared: {r2}\")"
   ]
  },
  {
   "cell_type": "markdown",
   "id": "466115bb",
   "metadata": {},
   "source": [
    "# Plot the actual vs. predicted values"
   ]
  },
  {
   "cell_type": "code",
   "execution_count": null,
   "id": "1f53f810",
   "metadata": {},
   "outputs": [],
   "source": [
    "plt.figure(figsize=(10, 6))\n",
    "plt.scatter(X_test, y_test, color=\"b\", label=\"Actual\")\n",
    "plt.scatter(X_test, y_pred, color=\"r\", label=\"Predicted\")\n",
    "plt.xlabel(\"Day of the Year\")\n",
    "plt.ylabel(\"Energy Consumption (MW)\")\n",
    "plt.title(\"SVR Model: Actual vs. Predicted\")\n",
    "plt.legend()\n",
    "plt.grid()\n",
    "plt.show()"
   ]
  },
  {
   "cell_type": "markdown",
   "id": "e44ede8f",
   "metadata": {},
   "source": [
    "# Visualization:\n",
    "•\tData exploration: Visualize the raw data to understand patterns and trends in energy consumption.\n",
    "•\tModel performance: Create visualizations to showcase how well the model predicts energy consumption compared to actual values.\n",
    "•\tReal-time monitoring: Develop interactive dashboards or visualizations to monitor real-time energy consumption and alerts.\n"
   ]
  },
  {
   "cell_type": "code",
   "execution_count": null,
   "id": "24bf7e00",
   "metadata": {},
   "outputs": [],
   "source": [
    "# DATA VISUALIZATION\n",
    "print(BLUE + \"\\nDATA VISUALIZATION\" + RESET)"
   ]
  },
  {
   "cell_type": "markdown",
   "id": "9b4ec9bd",
   "metadata": {},
   "source": [
    "# --- Line plot"
   ]
  },
  {
   "cell_type": "code",
   "execution_count": null,
   "id": "ae5fdb79",
   "metadata": {},
   "outputs": [],
   "source": [
    "print(GREEN + \"LinePlot : \" + RESET)\n",
    "plt.figure(figsize=(10, 6))\n",
    "sns.lineplot(data=df, x=\"Datetime\", y=\"PJMW_MW\")\n",
    "plt.xlabel(\"Datetime\")\n",
    "plt.ylabel(\"Energy Consumption (MW)\")\n",
    "plt.title(\"Energy Consumption Over Year\")\n",
    "plt.grid()\n",
    "plt.show()"
   ]
  },
  {
   "cell_type": "markdown",
   "id": "bf532bb1",
   "metadata": {},
   "source": [
    "# --- Histogram"
   ]
  },
  {
   "cell_type": "code",
   "execution_count": null,
   "id": "10231e10",
   "metadata": {},
   "outputs": [],
   "source": [
    "print(GREEN + \"Histogram : \" + RESET)\n",
    "plt.figure(figsize=(10, 6))\n",
    "plt.hist(\n",
    "    df[\"PJMW_MW\"],\n",
    "    bins=100,\n",
    "    histtype=\"barstacked\",\n",
    "    edgecolor=\"white\",\n",
    ")\n",
    "plt.xlabel(\"PJMW\")\n",
    "plt.ylabel(\"Frequency\")\n",
    "plt.title(\"Histogram of MEGAWATT USAGE\")\n",
    "plt.show()"
   ]
  },
  {
   "cell_type": "markdown",
   "id": "6dee76e9",
   "metadata": {},
   "source": [
    "# Conclusion \n",
    "\n",
    "In conclusion, the measuring energy consumption visualization project has provided valuable insights into the patterns and trends of energy usage within our target environment. By leveraging advanced monitoring technology and data visualization techniques, we have achieved several significant outcomes."
   ]
  }
 ],
 "metadata": {
  "kernelspec": {
   "display_name": "Python 3 (ipykernel)",
   "language": "python",
   "name": "python3"
  },
  "language_info": {
   "codemirror_mode": {
    "name": "ipython",
    "version": 3
   },
   "file_extension": ".py",
   "mimetype": "text/x-python",
   "name": "python",
   "nbconvert_exporter": "python",
   "pygments_lexer": "ipython3",
   "version": "3.11.6"
  }
 },
 "nbformat": 4,
 "nbformat_minor": 5
}
